{
  "cells": [
    {
      "cell_type": "code",
      "execution_count": 57,
      "metadata": {
        "id": "gii5rYJDSekq"
      },
      "outputs": [],
      "source": [
        "import pandas as pd\n",
        "import numpy as np\n",
        "import warnings \n",
        "warnings.filterwarnings('ignore')"
      ]
    },
    {
      "cell_type": "code",
      "execution_count": 58,
      "metadata": {
        "colab": {
          "base_uri": "https://localhost:8080/",
          "height": 299
        },
        "id": "EU0wJy1pUEOP",
        "outputId": "a3435976-d6a8-4f19-d024-c5d4424179eb"
      },
      "outputs": [
        {
          "data": {
            "text/html": [
              "<div>\n",
              "<style scoped>\n",
              "    .dataframe tbody tr th:only-of-type {\n",
              "        vertical-align: middle;\n",
              "    }\n",
              "\n",
              "    .dataframe tbody tr th {\n",
              "        vertical-align: top;\n",
              "    }\n",
              "\n",
              "    .dataframe thead th {\n",
              "        text-align: right;\n",
              "    }\n",
              "</style>\n",
              "<table border=\"1\" class=\"dataframe\">\n",
              "  <thead>\n",
              "    <tr style=\"text-align: right;\">\n",
              "      <th></th>\n",
              "      <th>pixel0000</th>\n",
              "      <th>pixel0001</th>\n",
              "      <th>pixel0002</th>\n",
              "      <th>pixel0003</th>\n",
              "      <th>pixel0004</th>\n",
              "      <th>pixel0005</th>\n",
              "      <th>pixel0006</th>\n",
              "      <th>pixel0007</th>\n",
              "      <th>pixel0008</th>\n",
              "      <th>pixel0009</th>\n",
              "      <th>...</th>\n",
              "      <th>pixel2343</th>\n",
              "      <th>pixel2344</th>\n",
              "      <th>pixel2345</th>\n",
              "      <th>pixel2346</th>\n",
              "      <th>pixel2347</th>\n",
              "      <th>pixel2348</th>\n",
              "      <th>pixel2349</th>\n",
              "      <th>pixel2350</th>\n",
              "      <th>pixel2351</th>\n",
              "      <th>label</th>\n",
              "    </tr>\n",
              "  </thead>\n",
              "  <tbody>\n",
              "    <tr>\n",
              "      <th>10010</th>\n",
              "      <td>183</td>\n",
              "      <td>165</td>\n",
              "      <td>181</td>\n",
              "      <td>182</td>\n",
              "      <td>165</td>\n",
              "      <td>180</td>\n",
              "      <td>184</td>\n",
              "      <td>166</td>\n",
              "      <td>182</td>\n",
              "      <td>188</td>\n",
              "      <td>...</td>\n",
              "      <td>208</td>\n",
              "      <td>185</td>\n",
              "      <td>187</td>\n",
              "      <td>208</td>\n",
              "      <td>186</td>\n",
              "      <td>186</td>\n",
              "      <td>206</td>\n",
              "      <td>187</td>\n",
              "      <td>189</td>\n",
              "      <td>0</td>\n",
              "    </tr>\n",
              "    <tr>\n",
              "      <th>10011</th>\n",
              "      <td>2</td>\n",
              "      <td>3</td>\n",
              "      <td>1</td>\n",
              "      <td>38</td>\n",
              "      <td>33</td>\n",
              "      <td>32</td>\n",
              "      <td>121</td>\n",
              "      <td>104</td>\n",
              "      <td>103</td>\n",
              "      <td>132</td>\n",
              "      <td>...</td>\n",
              "      <td>96</td>\n",
              "      <td>79</td>\n",
              "      <td>76</td>\n",
              "      <td>24</td>\n",
              "      <td>23</td>\n",
              "      <td>21</td>\n",
              "      <td>3</td>\n",
              "      <td>4</td>\n",
              "      <td>1</td>\n",
              "      <td>0</td>\n",
              "    </tr>\n",
              "    <tr>\n",
              "      <th>10012</th>\n",
              "      <td>132</td>\n",
              "      <td>118</td>\n",
              "      <td>118</td>\n",
              "      <td>167</td>\n",
              "      <td>149</td>\n",
              "      <td>149</td>\n",
              "      <td>175</td>\n",
              "      <td>156</td>\n",
              "      <td>160</td>\n",
              "      <td>184</td>\n",
              "      <td>...</td>\n",
              "      <td>204</td>\n",
              "      <td>181</td>\n",
              "      <td>178</td>\n",
              "      <td>181</td>\n",
              "      <td>159</td>\n",
              "      <td>153</td>\n",
              "      <td>172</td>\n",
              "      <td>151</td>\n",
              "      <td>145</td>\n",
              "      <td>0</td>\n",
              "    </tr>\n",
              "    <tr>\n",
              "      <th>10013</th>\n",
              "      <td>160</td>\n",
              "      <td>124</td>\n",
              "      <td>146</td>\n",
              "      <td>164</td>\n",
              "      <td>131</td>\n",
              "      <td>152</td>\n",
              "      <td>167</td>\n",
              "      <td>127</td>\n",
              "      <td>146</td>\n",
              "      <td>169</td>\n",
              "      <td>...</td>\n",
              "      <td>185</td>\n",
              "      <td>162</td>\n",
              "      <td>167</td>\n",
              "      <td>184</td>\n",
              "      <td>157</td>\n",
              "      <td>166</td>\n",
              "      <td>185</td>\n",
              "      <td>162</td>\n",
              "      <td>172</td>\n",
              "      <td>0</td>\n",
              "    </tr>\n",
              "    <tr>\n",
              "      <th>10014</th>\n",
              "      <td>175</td>\n",
              "      <td>142</td>\n",
              "      <td>121</td>\n",
              "      <td>181</td>\n",
              "      <td>150</td>\n",
              "      <td>134</td>\n",
              "      <td>181</td>\n",
              "      <td>150</td>\n",
              "      <td>133</td>\n",
              "      <td>178</td>\n",
              "      <td>...</td>\n",
              "      <td>159</td>\n",
              "      <td>79</td>\n",
              "      <td>82</td>\n",
              "      <td>174</td>\n",
              "      <td>137</td>\n",
              "      <td>125</td>\n",
              "      <td>175</td>\n",
              "      <td>139</td>\n",
              "      <td>126</td>\n",
              "      <td>6</td>\n",
              "    </tr>\n",
              "  </tbody>\n",
              "</table>\n",
              "<p>5 rows × 2353 columns</p>\n",
              "</div>"
            ],
            "text/plain": [
              "       pixel0000  pixel0001  pixel0002  pixel0003  pixel0004  pixel0005  \\\n",
              "10010        183        165        181        182        165        180   \n",
              "10011          2          3          1         38         33         32   \n",
              "10012        132        118        118        167        149        149   \n",
              "10013        160        124        146        164        131        152   \n",
              "10014        175        142        121        181        150        134   \n",
              "\n",
              "       pixel0006  pixel0007  pixel0008  pixel0009  ...  pixel2343  pixel2344  \\\n",
              "10010        184        166        182        188  ...        208        185   \n",
              "10011        121        104        103        132  ...         96         79   \n",
              "10012        175        156        160        184  ...        204        181   \n",
              "10013        167        127        146        169  ...        185        162   \n",
              "10014        181        150        133        178  ...        159         79   \n",
              "\n",
              "       pixel2345  pixel2346  pixel2347  pixel2348  pixel2349  pixel2350  \\\n",
              "10010        187        208        186        186        206        187   \n",
              "10011         76         24         23         21          3          4   \n",
              "10012        178        181        159        153        172        151   \n",
              "10013        167        184        157        166        185        162   \n",
              "10014         82        174        137        125        175        139   \n",
              "\n",
              "       pixel2351  label  \n",
              "10010        189      0  \n",
              "10011          1      0  \n",
              "10012        145      0  \n",
              "10013        172      0  \n",
              "10014        126      6  \n",
              "\n",
              "[5 rows x 2353 columns]"
            ]
          },
          "execution_count": 58,
          "metadata": {},
          "output_type": "execute_result"
        }
      ],
      "source": [
        "\n",
        "path=r'C:\\Users\\SUDHIR REDDY\\Desktop\\Skin_Cancer\\hmnist_28_28_RGB.csv'\n",
        "df=pd.read_csv(path)\n",
        "df.tail()"
      ]
    },
    {
      "cell_type": "code",
      "execution_count": 59,
      "metadata": {
        "id": "oDIAKrsGUEiw"
      },
      "outputs": [],
      "source": [
        "fractions=np.array([0.8,0.2])\n",
        "\n",
        "df=df.sample(frac=1)\n",
        "\n",
        "train_set, test_set = np.array_split(df, (fractions[:-1].cumsum() * len(df)).astype(int))"
      ]
    },
    {
      "cell_type": "code",
      "execution_count": 48,
      "metadata": {
        "colab": {
          "base_uri": "https://localhost:8080/"
        },
        "id": "bhXSGaOVTQar",
        "outputId": "f8d48dd3-ee0a-49d7-b2c5-88c5baeb7112"
      },
      "outputs": [
        {
          "name": "stdout",
          "output_type": "stream",
          "text": [
            "8012\n"
          ]
        }
      ],
      "source": [
        "print(len(train_set))"
      ]
    },
    {
      "cell_type": "code",
      "execution_count": 60,
      "metadata": {
        "colab": {
          "base_uri": "https://localhost:8080/"
        },
        "id": "j_lN4mdQZMb-",
        "outputId": "b95263e3-b868-4427-b7c2-64662e1e3bf8"
      },
      "outputs": [
        {
          "name": "stdout",
          "output_type": "stream",
          "text": [
            "2003\n"
          ]
        }
      ],
      "source": [
        "print(len(test_set))"
      ]
    },
    {
      "cell_type": "code",
      "execution_count": 61,
      "metadata": {
        "colab": {
          "base_uri": "https://localhost:8080/"
        },
        "id": "Lil5CUnbZS-F",
        "outputId": "c0e4e55b-ac55-4217-98dd-690d3b435a07"
      },
      "outputs": [
        {
          "data": {
            "text/plain": [
              "array([6, 4, 1, 2, 0, 5, 3], dtype=int64)"
            ]
          },
          "execution_count": 61,
          "metadata": {},
          "output_type": "execute_result"
        }
      ],
      "source": [
        "df.label.unique()"
      ]
    },
    {
      "cell_type": "code",
      "execution_count": 62,
      "metadata": {
        "id": "M0h3XqosZYmM"
      },
      "outputs": [],
      "source": [
        "classes={\n",
        "    0:('akiec', 'actinic keratoses and intraepithelial carcinomae'),\n",
        "         \n",
        "    1:('bcc' , 'basal cell carcinoma'),\n",
        "         \n",
        "    2:('bkl', 'benign keratosis-like lesions'),\n",
        "         \n",
        "    3:('df', 'dermatofibroma'),\n",
        "         \n",
        "    4:('nv', ' melanocytic nevi'),\n",
        "         \n",
        "    5:('vasc', ' pyogenic granulomas and hemorrhage'),\n",
        "         \n",
        "    6:('mel', 'melanoma'),\n",
        "}"
      ]
    },
    {
      "cell_type": "code",
      "execution_count": 63,
      "metadata": {
        "id": "UZ4TClqDZYo9"
      },
      "outputs": [],
      "source": [
        "y_train=train_set['label']\n",
        "\n",
        "x_train=train_set.drop(columns=['label'])\n",
        "\n",
        "y_test=test_set['label']\n",
        "\n",
        "x_test=test_set.drop(columns=['label'])\n",
        "\n",
        "columns=list(x_train)"
      ]
    },
    {
      "cell_type": "code",
      "execution_count": 64,
      "metadata": {
        "colab": {
          "base_uri": "https://localhost:8080/"
        },
        "id": "rXsFhj-5dwxp",
        "outputId": "cd52276e-2a11-4f1a-8e07-94fed3eae19e"
      },
      "outputs": [
        {
          "name": "stdout",
          "output_type": "stream",
          "text": [
            "cpu\n"
          ]
        }
      ],
      "source": [
        "import torch\n",
        "\n",
        "device = torch.device(\"cuda:0\" if torch.cuda.is_available() else \"cpu\")\n",
        "\n",
        "print(device)"
      ]
    },
    {
      "cell_type": "code",
      "execution_count": 66,
      "metadata": {
        "colab": {
          "base_uri": "https://localhost:8080/",
          "height": 282
        },
        "id": "sM48yo-9cjWP",
        "outputId": "d4a6211f-893c-40da-90c6-326f69d04c18"
      },
      "outputs": [
        {
          "data": {
            "text/plain": [
              "<Axes: ylabel='count'>"
            ]
          },
          "execution_count": 66,
          "metadata": {},
          "output_type": "execute_result"
        },
        {
          "data": {
            "image/png": "[encoded data removed]",
            "text/plain": [
              "<Figure size 640x480 with 1 Axes>"
            ]
          },
          "metadata": {},
          "output_type": "display_data"
        }
      ],
      "source": [
        "import seaborn as sns\n",
        "\n",
        "sns.countplot(train_set['label'])"
      ]
    },
    {
      "cell_type": "code",
      "execution_count": 68,
      "metadata": {
        "id": "M63AgJSVZp45"
      },
      "outputs": [],
      "source": [
        "from imblearn.over_sampling import RandomOverSampler \n",
        "\n",
        "oversample = RandomOverSampler()\n",
        "\n",
        "x_train,y_train  = oversample.fit_resample(x_train,y_train)"
      ]
    },
    {
      "cell_type": "code",
      "execution_count": 69,
      "metadata": {
        "colab": {
          "base_uri": "https://localhost:8080/",
          "height": 282
        },
        "id": "7VKwy1owZqFX",
        "outputId": "cafe6120-779c-456f-e749-e3748abfb9f7"
      },
      "outputs": [
        {
          "data": {
            "text/plain": [
              "<Axes: ylabel='count'>"
            ]
          },
          "execution_count": 69,
          "metadata": {},
          "output_type": "execute_result"
        },
        {
          "data": {
            "image/png": "[encoded data removed]",
            "text/plain": [
              "<Figure size 640x480 with 1 Axes>"
            ]
          },
          "metadata": {},
          "output_type": "display_data"
        }
      ],
      "source": [
        "sns.countplot(y_train)"
      ]
    },
    {
      "cell_type": "code",
      "execution_count": 70,
      "metadata": {
        "colab": {
          "base_uri": "https://localhost:8080/",
          "height": 809
        },
        "id": "y0S8qjoiZqUy",
        "outputId": "b86cd25c-5285-4ebb-b2cf-cc54f505df53"
      },
      "outputs": [
        {
          "data": {
            "image/png": "[encoded data removed]",
            "text/plain": [
              "<Figure size 640x480 with 1 Axes>"
            ]
          },
          "metadata": {},
          "output_type": "display_data"
        },
        {
          "data": {
            "image/png": "[encoded data removed]",
            "text/plain": [
              "<Figure size 640x480 with 1 Axes>"
            ]
          },
          "metadata": {},
          "output_type": "display_data"
        },
        {
          "data": {
            "image/png": "[encoded data removed]",
            "text/plain": [
              "<Figure size 640x480 with 1 Axes>"
            ]
          },
          "metadata": {},
          "output_type": "display_data"
        }
      ],
      "source": [
        "import matplotlib.pyplot as plt\n",
        "import random\n",
        "\n",
        "num=random.randint(0,8000)\n",
        "x_train=np.array(x_train, dtype=np.uint8).reshape(-1,28,28,3)\n",
        "\n",
        "plt.imshow(x_train[num].reshape(28,28,3))\n",
        "plt.title(\"Random image from training data\")\n",
        "plt.show()\n",
        "num=random.randint(0,8000)\n",
        "plt.imshow(x_train[num].reshape(28,28,3))\n",
        "plt.title(\"Random image from training data\")\n",
        "plt.show()\n",
        "\n",
        "num=random.randint(0,8000)\n",
        "plt.imshow(x_train[num].reshape(28,28,3))\n",
        "plt.title(\"Random image from training data\")\n",
        "plt.show()"
      ]
    },
    {
      "cell_type": "code",
      "execution_count": 71,
      "metadata": {
        "id": "NfAi4Z76ZYxL"
      },
      "outputs": [],
      "source": [
        "from tensorflow.keras.models import Sequential\n",
        "from tensorflow.keras.layers import Conv2D, Flatten, Dense, MaxPool2D\n",
        "import tensorflow as tf"
      ]
    },
    {
      "cell_type": "code",
      "execution_count": 72,
      "metadata": {
        "colab": {
          "base_uri": "https://localhost:8080/"
        },
        "id": "EEunwd3XfGzH",
        "outputId": "d54b6200-0d87-496f-80cc-826e37303836"
      },
      "outputs": [
        {
          "name": "stdout",
          "output_type": "stream",
          "text": [
            "CPU times: total: 0 ns\n",
            "Wall time: 0 ns\n",
            "Model: \"sequential\"\n",
            "_________________________________________________________________\n",
            " Layer (type)                Output Shape              Param #   \n",
            "=================================================================\n",
            " conv2d (Conv2D)             (None, 28, 28, 16)        448       \n",
            "                                                                 \n",
            " max_pooling2d (MaxPooling2D  (None, 14, 14, 16)       0         \n",
            " )                                                               \n",
            "                                                                 \n",
            " batch_normalization (BatchN  (None, 14, 14, 16)       64        \n",
            " ormalization)                                                   \n",
            "                                                                 \n",
            " conv2d_1 (Conv2D)           (None, 12, 12, 32)        4640      \n",
            "                                                                 \n",
            " conv2d_2 (Conv2D)           (None, 10, 10, 64)        18496     \n",
            "                                                                 \n",
            " max_pooling2d_1 (MaxPooling  (None, 5, 5, 64)         0         \n",
            " 2D)                                                             \n",
            "                                                                 \n",
            " batch_normalization_1 (Batc  (None, 5, 5, 64)         256       \n",
            " hNormalization)                                                 \n",
            "                                                                 \n",
            " conv2d_3 (Conv2D)           (None, 3, 3, 128)         73856     \n",
            "                                                                 \n",
            " conv2d_4 (Conv2D)           (None, 1, 1, 256)         295168    \n",
            "                                                                 \n",
            " flatten (Flatten)           (None, 256)               0         \n",
            "                                                                 \n",
            " dropout (Dropout)           (None, 256)               0         \n",
            "                                                                 \n",
            " dense (Dense)               (None, 256)               65792     \n",
            "                                                                 \n",
            " batch_normalization_2 (Batc  (None, 256)              1024      \n",
            " hNormalization)                                                 \n",
            "                                                                 \n",
            " dropout_1 (Dropout)         (None, 256)               0         \n",
            "                                                                 \n",
            " dense_1 (Dense)             (None, 128)               32896     \n",
            "                                                                 \n",
            " batch_normalization_3 (Batc  (None, 128)              512       \n",
            " hNormalization)                                                 \n",
            "                                                                 \n",
            " dense_2 (Dense)             (None, 64)                8256      \n",
            "                                                                 \n",
            " batch_normalization_4 (Batc  (None, 64)               256       \n",
            " hNormalization)                                                 \n",
            "                                                                 \n",
            " dropout_2 (Dropout)         (None, 64)                0         \n",
            "                                                                 \n",
            " dense_3 (Dense)             (None, 32)                2080      \n",
            "                                                                 \n",
            " batch_normalization_5 (Batc  (None, 32)               128       \n",
            " hNormalization)                                                 \n",
            "                                                                 \n",
            " dense_4 (Dense)             (None, 7)                 231       \n",
            "                                                                 \n",
            "=================================================================\n",
            "Total params: 504,103\n",
            "Trainable params: 502,983\n",
            "Non-trainable params: 1,120\n",
            "_________________________________________________________________\n"
          ]
        }
      ],
      "source": [
        "%time \n",
        "\n",
        "model = Sequential()\n",
        "\n",
        "model.add(Conv2D(16, \n",
        "                 kernel_size = (3,3), \n",
        "                 input_shape = (28, 28, 3), \n",
        "                 activation = 'relu', \n",
        "                 padding = 'same'))\n",
        "\n",
        "model.add(MaxPool2D(pool_size = (2,2)))\n",
        "model.add(tf.keras.layers.BatchNormalization())\n",
        "\n",
        "model.add(Conv2D(32, \n",
        "                 kernel_size = (3,3), \n",
        "                 activation = 'relu'))\n",
        "\n",
        "model.add(Conv2D(64, \n",
        "                 kernel_size = (3,3), \n",
        "                 activation = 'relu'))\n",
        "\n",
        "model.add(MaxPool2D(pool_size = (2,2)))\n",
        "\n",
        "model.add(tf.keras.layers.BatchNormalization())\n",
        "\n",
        "model.add(Conv2D(128, \n",
        "                 kernel_size = (3,3), \n",
        "                 activation = 'relu'))\n",
        "\n",
        "model.add(Conv2D(256, \n",
        "                 kernel_size = (3,3), \n",
        "                 activation = 'relu'))\n",
        "\n",
        "model.add(Flatten())\n",
        "model.add(tf.keras.layers.Dropout(0.2))\n",
        "model.add(Dense(256,activation='relu'))\n",
        "\n",
        "model.add(tf.keras.layers.BatchNormalization())\n",
        "model.add(tf.keras.layers.Dropout(0.2))\n",
        "model.add(Dense(128,activation='relu'))\n",
        "\n",
        "model.add(tf.keras.layers.BatchNormalization())\n",
        "model.add(Dense(64,activation='relu'))\n",
        "\n",
        "model.add(tf.keras.layers.BatchNormalization())\n",
        "model.add(tf.keras.layers.Dropout(0.2))\n",
        "model.add(Dense(32,activation='relu'))\n",
        "\n",
        "model.add(tf.keras.layers.BatchNormalization())\n",
        "model.add(Dense(7,activation='softmax'))\n",
        "\n",
        "model.summary()"
      ]
    },
    {
      "cell_type": "code",
      "execution_count": 73,
      "metadata": {
        "id": "OaVU23KTfG_G"
      },
      "outputs": [],
      "source": [
        "callback = tf.keras.callbacks.ModelCheckpoint(filepath='best_model.h5',\n",
        "                                              monitor='val_acc', \n",
        "                                              mode='max',\n",
        "                                              verbose=1,\n",
        "                                              save_best_only=True)"
      ]
    },
    {
      "cell_type": "code",
      "execution_count": 74,
      "metadata": {
        "colab": {
          "base_uri": "https://localhost:8080/"
        },
        "id": "46iXy3mWfHHP",
        "outputId": "5a08bdfc-466b-4515-919c-4409a74d1c16"
      },
      "outputs": [
        {
          "name": "stderr",
          "output_type": "stream",
          "text": [
            "WARNING:absl:`lr` is deprecated in Keras optimizer, please use `learning_rate` or use the legacy optimizer, e.g.,tf.keras.optimizers.legacy.Adam.\n"
          ]
        },
        {
          "name": "stdout",
          "output_type": "stream",
          "text": [
            "CPU times: total: 0 ns\n",
            "Wall time: 0 ns\n"
          ]
        }
      ],
      "source": [
        "%time \n",
        "\n",
        "optimizer=tf.keras.optimizers.Adam(lr=0.001)\n",
        "\n",
        "model.compile(loss = 'sparse_categorical_crossentropy',\n",
        "              optimizer =optimizer,\n",
        "              metrics = ['accuracy'])"
      ]
    },
    {
      "cell_type": "code",
      "execution_count": 75,
      "metadata": {
        "colab": {
          "base_uri": "https://localhost:8080/"
        },
        "id": "QMYYSKHQfHT7",
        "outputId": "c57ceeb9-b9f2-41cd-969f-bd4bb63f09a0"
      },
      "outputs": [
        {
          "name": "stdout",
          "output_type": "stream",
          "text": [
            "Epoch 1/50\n",
            "235/236 [============================>.] - ETA: 0s - loss: 1.2933 - accuracy: 0.5205WARNING:tensorflow:Can save best model only with val_acc available, skipping.\n"
          ]
        },
        {
          "name": "stderr",
          "output_type": "stream",
          "text": [
            "WARNING:tensorflow:Can save best model only with val_acc available, skipping.\n"
          ]
        },
        {
          "name": "stdout",
          "output_type": "stream",
          "text": [
            "236/236 [==============================] - 26s 94ms/step - loss: 1.2930 - accuracy: 0.5206 - val_loss: 2.8167 - val_accuracy: 0.1234\n",
            "Epoch 2/50\n",
            "235/236 [============================>.] - ETA: 0s - loss: 0.4558 - accuracy: 0.8506WARNING:tensorflow:Can save best model only with val_acc available, skipping.\n"
          ]
        },
        {
          "name": "stderr",
          "output_type": "stream",
          "text": [
            "WARNING:tensorflow:Can save best model only with val_acc available, skipping.\n"
          ]
        },
        {
          "name": "stdout",
          "output_type": "stream",
          "text": [
            "236/236 [==============================] - 21s 89ms/step - loss: 0.4556 - accuracy: 0.8507 - val_loss: 1.5745 - val_accuracy: 0.3952\n",
            "Epoch 3/50\n",
            "235/236 [============================>.] - ETA: 0s - loss: 0.2755 - accuracy: 0.9078WARNING:tensorflow:Can save best model only with val_acc available, skipping.\n"
          ]
        },
        {
          "name": "stderr",
          "output_type": "stream",
          "text": [
            "WARNING:tensorflow:Can save best model only with val_acc available, skipping.\n"
          ]
        },
        {
          "name": "stdout",
          "output_type": "stream",
          "text": [
            "236/236 [==============================] - 21s 89ms/step - loss: 0.2756 - accuracy: 0.9078 - val_loss: 1.3652 - val_accuracy: 0.4598\n",
            "Epoch 4/50\n",
            "235/236 [============================>.] - ETA: 0s - loss: 0.2133 - accuracy: 0.9269WARNING:tensorflow:Can save best model only with val_acc available, skipping.\n"
          ]
        },
        {
          "name": "stderr",
          "output_type": "stream",
          "text": [
            "WARNING:tensorflow:Can save best model only with val_acc available, skipping.\n"
          ]
        },
        {
          "name": "stdout",
          "output_type": "stream",
          "text": [
            "236/236 [==============================] - 21s 90ms/step - loss: 0.2134 - accuracy: 0.9269 - val_loss: 1.3251 - val_accuracy: 0.4837\n",
            "Epoch 5/50\n",
            "235/236 [============================>.] - ETA: 0s - loss: 0.1764 - accuracy: 0.9394WARNING:tensorflow:Can save best model only with val_acc available, skipping.\n"
          ]
        },
        {
          "name": "stderr",
          "output_type": "stream",
          "text": [
            "WARNING:tensorflow:Can save best model only with val_acc available, skipping.\n"
          ]
        },
        {
          "name": "stdout",
          "output_type": "stream",
          "text": [
            "236/236 [==============================] - 21s 88ms/step - loss: 0.1765 - accuracy: 0.9394 - val_loss: 1.0809 - val_accuracy: 0.5097\n",
            "Epoch 6/50\n",
            "235/236 [============================>.] - ETA: 0s - loss: 0.1652 - accuracy: 0.9434WARNING:tensorflow:Can save best model only with val_acc available, skipping.\n"
          ]
        },
        {
          "name": "stderr",
          "output_type": "stream",
          "text": [
            "WARNING:tensorflow:Can save best model only with val_acc available, skipping.\n"
          ]
        },
        {
          "name": "stdout",
          "output_type": "stream",
          "text": [
            "236/236 [==============================] - 21s 88ms/step - loss: 0.1652 - accuracy: 0.9434 - val_loss: 0.6175 - val_accuracy: 0.6597\n",
            "Epoch 7/50\n",
            "235/236 [============================>.] - ETA: 0s - loss: 0.1182 - accuracy: 0.9591WARNING:tensorflow:Can save best model only with val_acc available, skipping.\n"
          ]
        },
        {
          "name": "stderr",
          "output_type": "stream",
          "text": [
            "WARNING:tensorflow:Can save best model only with val_acc available, skipping.\n"
          ]
        },
        {
          "name": "stdout",
          "output_type": "stream",
          "text": [
            "236/236 [==============================] - 21s 89ms/step - loss: 0.1183 - accuracy: 0.9591 - val_loss: 0.6684 - val_accuracy: 0.6941\n",
            "Epoch 8/50\n",
            "235/236 [============================>.] - ETA: 0s - loss: 0.1196 - accuracy: 0.9580WARNING:tensorflow:Can save best model only with val_acc available, skipping.\n"
          ]
        },
        {
          "name": "stderr",
          "output_type": "stream",
          "text": [
            "WARNING:tensorflow:Can save best model only with val_acc available, skipping.\n"
          ]
        },
        {
          "name": "stdout",
          "output_type": "stream",
          "text": [
            "236/236 [==============================] - 21s 89ms/step - loss: 0.1196 - accuracy: 0.9580 - val_loss: 0.5070 - val_accuracy: 0.7865\n",
            "Epoch 9/50\n",
            "235/236 [============================>.] - ETA: 0s - loss: 0.1054 - accuracy: 0.9633WARNING:tensorflow:Can save best model only with val_acc available, skipping.\n"
          ]
        },
        {
          "name": "stderr",
          "output_type": "stream",
          "text": [
            "WARNING:tensorflow:Can save best model only with val_acc available, skipping.\n"
          ]
        },
        {
          "name": "stdout",
          "output_type": "stream",
          "text": [
            "236/236 [==============================] - 20s 86ms/step - loss: 0.1060 - accuracy: 0.9632 - val_loss: 1.0753 - val_accuracy: 0.5121\n",
            "Epoch 10/50\n",
            "235/236 [============================>.] - ETA: 0s - loss: 0.1292 - accuracy: 0.9562WARNING:tensorflow:Can save best model only with val_acc available, skipping.\n"
          ]
        },
        {
          "name": "stderr",
          "output_type": "stream",
          "text": [
            "WARNING:tensorflow:Can save best model only with val_acc available, skipping.\n"
          ]
        },
        {
          "name": "stdout",
          "output_type": "stream",
          "text": [
            "236/236 [==============================] - 20s 86ms/step - loss: 0.1292 - accuracy: 0.9562 - val_loss: 0.8570 - val_accuracy: 0.7148\n",
            "Epoch 11/50\n",
            "235/236 [============================>.] - ETA: 0s - loss: 0.0788 - accuracy: 0.9725WARNING:tensorflow:Can save best model only with val_acc available, skipping.\n"
          ]
        },
        {
          "name": "stderr",
          "output_type": "stream",
          "text": [
            "WARNING:tensorflow:Can save best model only with val_acc available, skipping.\n"
          ]
        },
        {
          "name": "stdout",
          "output_type": "stream",
          "text": [
            "236/236 [==============================] - 19s 81ms/step - loss: 0.0788 - accuracy: 0.9725 - val_loss: 0.4368 - val_accuracy: 0.7803\n",
            "Epoch 12/50\n",
            "235/236 [============================>.] - ETA: 0s - loss: 0.0708 - accuracy: 0.9752WARNING:tensorflow:Can save best model only with val_acc available, skipping.\n"
          ]
        },
        {
          "name": "stderr",
          "output_type": "stream",
          "text": [
            "WARNING:tensorflow:Can save best model only with val_acc available, skipping.\n"
          ]
        },
        {
          "name": "stdout",
          "output_type": "stream",
          "text": [
            "236/236 [==============================] - 19s 81ms/step - loss: 0.0708 - accuracy: 0.9752 - val_loss: 0.4255 - val_accuracy: 0.8168\n",
            "Epoch 13/50\n",
            "235/236 [============================>.] - ETA: 0s - loss: 0.0683 - accuracy: 0.9770WARNING:tensorflow:Can save best model only with val_acc available, skipping.\n"
          ]
        },
        {
          "name": "stderr",
          "output_type": "stream",
          "text": [
            "WARNING:tensorflow:Can save best model only with val_acc available, skipping.\n"
          ]
        },
        {
          "name": "stdout",
          "output_type": "stream",
          "text": [
            "236/236 [==============================] - 20s 85ms/step - loss: 0.0682 - accuracy: 0.9770 - val_loss: 0.4460 - val_accuracy: 0.8276\n",
            "Epoch 14/50\n",
            "235/236 [============================>.] - ETA: 0s - loss: 0.0750 - accuracy: 0.9743WARNING:tensorflow:Can save best model only with val_acc available, skipping.\n"
          ]
        },
        {
          "name": "stderr",
          "output_type": "stream",
          "text": [
            "WARNING:tensorflow:Can save best model only with val_acc available, skipping.\n"
          ]
        },
        {
          "name": "stdout",
          "output_type": "stream",
          "text": [
            "236/236 [==============================] - 20s 85ms/step - loss: 0.0751 - accuracy: 0.9743 - val_loss: 0.9149 - val_accuracy: 0.6724\n",
            "Epoch 15/50\n",
            "235/236 [============================>.] - ETA: 0s - loss: 0.0610 - accuracy: 0.9791WARNING:tensorflow:Can save best model only with val_acc available, skipping.\n"
          ]
        },
        {
          "name": "stderr",
          "output_type": "stream",
          "text": [
            "WARNING:tensorflow:Can save best model only with val_acc available, skipping.\n"
          ]
        },
        {
          "name": "stdout",
          "output_type": "stream",
          "text": [
            "236/236 [==============================] - 20s 85ms/step - loss: 0.0610 - accuracy: 0.9790 - val_loss: 0.5520 - val_accuracy: 0.7806\n",
            "Epoch 16/50\n",
            "235/236 [============================>.] - ETA: 0s - loss: 0.0473 - accuracy: 0.9838WARNING:tensorflow:Can save best model only with val_acc available, skipping.\n"
          ]
        },
        {
          "name": "stderr",
          "output_type": "stream",
          "text": [
            "WARNING:tensorflow:Can save best model only with val_acc available, skipping.\n"
          ]
        },
        {
          "name": "stdout",
          "output_type": "stream",
          "text": [
            "236/236 [==============================] - 20s 85ms/step - loss: 0.0473 - accuracy: 0.9838 - val_loss: 0.3958 - val_accuracy: 0.8337\n",
            "Epoch 17/50\n",
            "235/236 [============================>.] - ETA: 0s - loss: 0.0525 - accuracy: 0.9823WARNING:tensorflow:Can save best model only with val_acc available, skipping.\n"
          ]
        },
        {
          "name": "stderr",
          "output_type": "stream",
          "text": [
            "WARNING:tensorflow:Can save best model only with val_acc available, skipping.\n"
          ]
        },
        {
          "name": "stdout",
          "output_type": "stream",
          "text": [
            "236/236 [==============================] - 20s 85ms/step - loss: 0.0525 - accuracy: 0.9824 - val_loss: 0.7629 - val_accuracy: 0.6801\n",
            "Epoch 18/50\n",
            "235/236 [============================>.] - ETA: 0s - loss: 0.0520 - accuracy: 0.9820WARNING:tensorflow:Can save best model only with val_acc available, skipping.\n"
          ]
        },
        {
          "name": "stderr",
          "output_type": "stream",
          "text": [
            "WARNING:tensorflow:Can save best model only with val_acc available, skipping.\n"
          ]
        },
        {
          "name": "stdout",
          "output_type": "stream",
          "text": [
            "236/236 [==============================] - 19s 82ms/step - loss: 0.0521 - accuracy: 0.9819 - val_loss: 0.2926 - val_accuracy: 0.8794\n",
            "Epoch 19/50\n",
            "235/236 [============================>.] - ETA: 0s - loss: 0.0468 - accuracy: 0.9846WARNING:tensorflow:Can save best model only with val_acc available, skipping.\n"
          ]
        },
        {
          "name": "stderr",
          "output_type": "stream",
          "text": [
            "WARNING:tensorflow:Can save best model only with val_acc available, skipping.\n"
          ]
        },
        {
          "name": "stdout",
          "output_type": "stream",
          "text": [
            "236/236 [==============================] - 19s 82ms/step - loss: 0.0468 - accuracy: 0.9846 - val_loss: 0.2864 - val_accuracy: 0.8874\n",
            "Epoch 20/50\n",
            "235/236 [============================>.] - ETA: 0s - loss: 0.0414 - accuracy: 0.9856WARNING:tensorflow:Can save best model only with val_acc available, skipping.\n"
          ]
        },
        {
          "name": "stderr",
          "output_type": "stream",
          "text": [
            "WARNING:tensorflow:Can save best model only with val_acc available, skipping.\n"
          ]
        },
        {
          "name": "stdout",
          "output_type": "stream",
          "text": [
            "236/236 [==============================] - 20s 83ms/step - loss: 0.0414 - accuracy: 0.9856 - val_loss: 0.2602 - val_accuracy: 0.8773\n",
            "Epoch 21/50\n",
            "235/236 [============================>.] - ETA: 0s - loss: 0.0386 - accuracy: 0.9878WARNING:tensorflow:Can save best model only with val_acc available, skipping.\n"
          ]
        },
        {
          "name": "stderr",
          "output_type": "stream",
          "text": [
            "WARNING:tensorflow:Can save best model only with val_acc available, skipping.\n"
          ]
        },
        {
          "name": "stdout",
          "output_type": "stream",
          "text": [
            "236/236 [==============================] - 20s 85ms/step - loss: 0.0385 - accuracy: 0.9878 - val_loss: 0.2660 - val_accuracy: 0.8796\n",
            "Epoch 22/50\n",
            "235/236 [============================>.] - ETA: 0s - loss: 0.0286 - accuracy: 0.9910WARNING:tensorflow:Can save best model only with val_acc available, skipping.\n"
          ]
        },
        {
          "name": "stderr",
          "output_type": "stream",
          "text": [
            "WARNING:tensorflow:Can save best model only with val_acc available, skipping.\n"
          ]
        },
        {
          "name": "stdout",
          "output_type": "stream",
          "text": [
            "236/236 [==============================] - 21s 89ms/step - loss: 0.0286 - accuracy: 0.9909 - val_loss: 0.3656 - val_accuracy: 0.8844\n",
            "Epoch 23/50\n",
            "235/236 [============================>.] - ETA: 0s - loss: 0.0423 - accuracy: 0.9862WARNING:tensorflow:Can save best model only with val_acc available, skipping.\n"
          ]
        },
        {
          "name": "stderr",
          "output_type": "stream",
          "text": [
            "WARNING:tensorflow:Can save best model only with val_acc available, skipping.\n"
          ]
        },
        {
          "name": "stdout",
          "output_type": "stream",
          "text": [
            "236/236 [==============================] - 19s 82ms/step - loss: 0.0426 - accuracy: 0.9861 - val_loss: 0.1951 - val_accuracy: 0.9222\n",
            "Epoch 24/50\n",
            "235/236 [============================>.] - ETA: 0s - loss: 0.0397 - accuracy: 0.9863WARNING:tensorflow:Can save best model only with val_acc available, skipping.\n"
          ]
        },
        {
          "name": "stderr",
          "output_type": "stream",
          "text": [
            "WARNING:tensorflow:Can save best model only with val_acc available, skipping.\n"
          ]
        },
        {
          "name": "stdout",
          "output_type": "stream",
          "text": [
            "236/236 [==============================] - 19s 82ms/step - loss: 0.0398 - accuracy: 0.9863 - val_loss: 0.5215 - val_accuracy: 0.7977\n",
            "Epoch 25/50\n",
            "235/236 [============================>.] - ETA: 0s - loss: 0.0291 - accuracy: 0.9901WARNING:tensorflow:Can save best model only with val_acc available, skipping.\n"
          ]
        },
        {
          "name": "stderr",
          "output_type": "stream",
          "text": [
            "WARNING:tensorflow:Can save best model only with val_acc available, skipping.\n"
          ]
        },
        {
          "name": "stdout",
          "output_type": "stream",
          "text": [
            "236/236 [==============================] - 19s 80ms/step - loss: 0.0291 - accuracy: 0.9901 - val_loss: 0.8902 - val_accuracy: 0.7286\n",
            "Epoch 26/50\n",
            "235/236 [============================>.] - ETA: 0s - loss: 0.0341 - accuracy: 0.9891WARNING:tensorflow:Can save best model only with val_acc available, skipping.\n"
          ]
        },
        {
          "name": "stderr",
          "output_type": "stream",
          "text": [
            "WARNING:tensorflow:Can save best model only with val_acc available, skipping.\n"
          ]
        },
        {
          "name": "stdout",
          "output_type": "stream",
          "text": [
            "236/236 [==============================] - 19s 80ms/step - loss: 0.0342 - accuracy: 0.9890 - val_loss: 0.2808 - val_accuracy: 0.8919\n",
            "Epoch 27/50\n",
            "235/236 [============================>.] - ETA: 0s - loss: 0.0454 - accuracy: 0.9856WARNING:tensorflow:Can save best model only with val_acc available, skipping.\n"
          ]
        },
        {
          "name": "stderr",
          "output_type": "stream",
          "text": [
            "WARNING:tensorflow:Can save best model only with val_acc available, skipping.\n"
          ]
        },
        {
          "name": "stdout",
          "output_type": "stream",
          "text": [
            "236/236 [==============================] - 19s 80ms/step - loss: 0.0454 - accuracy: 0.9856 - val_loss: 0.0515 - val_accuracy: 0.9819\n",
            "Epoch 28/50\n",
            "235/236 [============================>.] - ETA: 0s - loss: 0.0205 - accuracy: 0.9934WARNING:tensorflow:Can save best model only with val_acc available, skipping.\n"
          ]
        },
        {
          "name": "stderr",
          "output_type": "stream",
          "text": [
            "WARNING:tensorflow:Can save best model only with val_acc available, skipping.\n"
          ]
        },
        {
          "name": "stdout",
          "output_type": "stream",
          "text": [
            "236/236 [==============================] - 19s 81ms/step - loss: 0.0205 - accuracy: 0.9934 - val_loss: 0.5253 - val_accuracy: 0.8289\n",
            "Epoch 29/50\n",
            "235/236 [============================>.] - ETA: 0s - loss: 0.0182 - accuracy: 0.9944WARNING:tensorflow:Can save best model only with val_acc available, skipping.\n"
          ]
        },
        {
          "name": "stderr",
          "output_type": "stream",
          "text": [
            "WARNING:tensorflow:Can save best model only with val_acc available, skipping.\n"
          ]
        },
        {
          "name": "stdout",
          "output_type": "stream",
          "text": [
            "236/236 [==============================] - 19s 82ms/step - loss: 0.0182 - accuracy: 0.9944 - val_loss: 0.2092 - val_accuracy: 0.9296\n",
            "Epoch 30/50\n",
            "235/236 [============================>.] - ETA: 0s - loss: 0.0245 - accuracy: 0.9919WARNING:tensorflow:Can save best model only with val_acc available, skipping.\n"
          ]
        },
        {
          "name": "stderr",
          "output_type": "stream",
          "text": [
            "WARNING:tensorflow:Can save best model only with val_acc available, skipping.\n"
          ]
        },
        {
          "name": "stdout",
          "output_type": "stream",
          "text": [
            "236/236 [==============================] - 20s 83ms/step - loss: 0.0247 - accuracy: 0.9919 - val_loss: 0.1602 - val_accuracy: 0.9447\n",
            "Epoch 31/50\n",
            "235/236 [============================>.] - ETA: 0s - loss: 0.0394 - accuracy: 0.9880WARNING:tensorflow:Can save best model only with val_acc available, skipping.\n"
          ]
        },
        {
          "name": "stderr",
          "output_type": "stream",
          "text": [
            "WARNING:tensorflow:Can save best model only with val_acc available, skipping.\n"
          ]
        },
        {
          "name": "stdout",
          "output_type": "stream",
          "text": [
            "236/236 [==============================] - 19s 81ms/step - loss: 0.0395 - accuracy: 0.9879 - val_loss: 0.0691 - val_accuracy: 0.9748\n",
            "Epoch 32/50\n",
            "235/236 [============================>.] - ETA: 0s - loss: 0.0188 - accuracy: 0.9935WARNING:tensorflow:Can save best model only with val_acc available, skipping.\n"
          ]
        },
        {
          "name": "stderr",
          "output_type": "stream",
          "text": [
            "WARNING:tensorflow:Can save best model only with val_acc available, skipping.\n"
          ]
        },
        {
          "name": "stdout",
          "output_type": "stream",
          "text": [
            "236/236 [==============================] - 21s 91ms/step - loss: 0.0187 - accuracy: 0.9935 - val_loss: 0.1227 - val_accuracy: 0.9503\n",
            "Epoch 33/50\n",
            "235/236 [============================>.] - ETA: 0s - loss: 0.0133 - accuracy: 0.9961WARNING:tensorflow:Can save best model only with val_acc available, skipping.\n"
          ]
        },
        {
          "name": "stderr",
          "output_type": "stream",
          "text": [
            "WARNING:tensorflow:Can save best model only with val_acc available, skipping.\n"
          ]
        },
        {
          "name": "stdout",
          "output_type": "stream",
          "text": [
            "236/236 [==============================] - 20s 86ms/step - loss: 0.0133 - accuracy: 0.9961 - val_loss: 0.0474 - val_accuracy: 0.9865\n",
            "Epoch 34/50\n",
            "235/236 [============================>.] - ETA: 0s - loss: 0.0227 - accuracy: 0.9927WARNING:tensorflow:Can save best model only with val_acc available, skipping.\n"
          ]
        },
        {
          "name": "stderr",
          "output_type": "stream",
          "text": [
            "WARNING:tensorflow:Can save best model only with val_acc available, skipping.\n"
          ]
        },
        {
          "name": "stdout",
          "output_type": "stream",
          "text": [
            "236/236 [==============================] - 20s 86ms/step - loss: 0.0227 - accuracy: 0.9927 - val_loss: 0.0879 - val_accuracy: 0.9653\n",
            "Epoch 35/50\n",
            "235/236 [============================>.] - ETA: 0s - loss: 0.0266 - accuracy: 0.9918WARNING:tensorflow:Can save best model only with val_acc available, skipping.\n"
          ]
        },
        {
          "name": "stderr",
          "output_type": "stream",
          "text": [
            "WARNING:tensorflow:Can save best model only with val_acc available, skipping.\n"
          ]
        },
        {
          "name": "stdout",
          "output_type": "stream",
          "text": [
            "236/236 [==============================] - 21s 88ms/step - loss: 0.0267 - accuracy: 0.9917 - val_loss: 0.2704 - val_accuracy: 0.9218\n",
            "Epoch 36/50\n",
            "235/236 [============================>.] - ETA: 0s - loss: 0.0241 - accuracy: 0.9920WARNING:tensorflow:Can save best model only with val_acc available, skipping.\n"
          ]
        },
        {
          "name": "stderr",
          "output_type": "stream",
          "text": [
            "WARNING:tensorflow:Can save best model only with val_acc available, skipping.\n"
          ]
        },
        {
          "name": "stdout",
          "output_type": "stream",
          "text": [
            "236/236 [==============================] - 20s 85ms/step - loss: 0.0241 - accuracy: 0.9920 - val_loss: 0.0764 - val_accuracy: 0.9720\n",
            "Epoch 37/50\n",
            "235/236 [============================>.] - ETA: 0s - loss: 0.0087 - accuracy: 0.9972WARNING:tensorflow:Can save best model only with val_acc available, skipping.\n"
          ]
        },
        {
          "name": "stderr",
          "output_type": "stream",
          "text": [
            "WARNING:tensorflow:Can save best model only with val_acc available, skipping.\n"
          ]
        },
        {
          "name": "stdout",
          "output_type": "stream",
          "text": [
            "236/236 [==============================] - 20s 86ms/step - loss: 0.0088 - accuracy: 0.9972 - val_loss: 0.2305 - val_accuracy: 0.9382\n",
            "Epoch 38/50\n",
            "235/236 [============================>.] - ETA: 0s - loss: 0.0256 - accuracy: 0.9920WARNING:tensorflow:Can save best model only with val_acc available, skipping.\n"
          ]
        },
        {
          "name": "stderr",
          "output_type": "stream",
          "text": [
            "WARNING:tensorflow:Can save best model only with val_acc available, skipping.\n"
          ]
        },
        {
          "name": "stdout",
          "output_type": "stream",
          "text": [
            "236/236 [==============================] - 20s 87ms/step - loss: 0.0256 - accuracy: 0.9920 - val_loss: 0.0930 - val_accuracy: 0.9696\n",
            "Epoch 39/50\n",
            "235/236 [============================>.] - ETA: 0s - loss: 0.0150 - accuracy: 0.9951WARNING:tensorflow:Can save best model only with val_acc available, skipping.\n"
          ]
        },
        {
          "name": "stderr",
          "output_type": "stream",
          "text": [
            "WARNING:tensorflow:Can save best model only with val_acc available, skipping.\n"
          ]
        },
        {
          "name": "stdout",
          "output_type": "stream",
          "text": [
            "236/236 [==============================] - 20s 86ms/step - loss: 0.0154 - accuracy: 0.9951 - val_loss: 0.3257 - val_accuracy: 0.9022\n",
            "Epoch 40/50\n",
            "235/236 [============================>.] - ETA: 0s - loss: 0.0276 - accuracy: 0.9916WARNING:tensorflow:Can save best model only with val_acc available, skipping.\n"
          ]
        },
        {
          "name": "stderr",
          "output_type": "stream",
          "text": [
            "WARNING:tensorflow:Can save best model only with val_acc available, skipping.\n"
          ]
        },
        {
          "name": "stdout",
          "output_type": "stream",
          "text": [
            "236/236 [==============================] - 20s 86ms/step - loss: 0.0276 - accuracy: 0.9916 - val_loss: 0.0851 - val_accuracy: 0.9712\n",
            "Epoch 41/50\n",
            "235/236 [============================>.] - ETA: 0s - loss: 0.0146 - accuracy: 0.9953WARNING:tensorflow:Can save best model only with val_acc available, skipping.\n"
          ]
        },
        {
          "name": "stderr",
          "output_type": "stream",
          "text": [
            "WARNING:tensorflow:Can save best model only with val_acc available, skipping.\n"
          ]
        },
        {
          "name": "stdout",
          "output_type": "stream",
          "text": [
            "236/236 [==============================] - 22s 92ms/step - loss: 0.0146 - accuracy: 0.9953 - val_loss: 0.1055 - val_accuracy: 0.9621\n",
            "Epoch 42/50\n",
            "235/236 [============================>.] - ETA: 0s - loss: 0.0184 - accuracy: 0.9944WARNING:tensorflow:Can save best model only with val_acc available, skipping.\n"
          ]
        },
        {
          "name": "stderr",
          "output_type": "stream",
          "text": [
            "WARNING:tensorflow:Can save best model only with val_acc available, skipping.\n"
          ]
        },
        {
          "name": "stdout",
          "output_type": "stream",
          "text": [
            "236/236 [==============================] - 20s 84ms/step - loss: 0.0184 - accuracy: 0.9945 - val_loss: 0.4433 - val_accuracy: 0.8409\n",
            "Epoch 43/50\n",
            "235/236 [============================>.] - ETA: 0s - loss: 0.0167 - accuracy: 0.9944WARNING:tensorflow:Can save best model only with val_acc available, skipping.\n"
          ]
        },
        {
          "name": "stderr",
          "output_type": "stream",
          "text": [
            "WARNING:tensorflow:Can save best model only with val_acc available, skipping.\n"
          ]
        },
        {
          "name": "stdout",
          "output_type": "stream",
          "text": [
            "236/236 [==============================] - 21s 89ms/step - loss: 0.0167 - accuracy: 0.9945 - val_loss: 0.3389 - val_accuracy: 0.8932\n",
            "Epoch 44/50\n",
            "235/236 [============================>.] - ETA: 0s - loss: 0.0085 - accuracy: 0.9970WARNING:tensorflow:Can save best model only with val_acc available, skipping.\n"
          ]
        },
        {
          "name": "stderr",
          "output_type": "stream",
          "text": [
            "WARNING:tensorflow:Can save best model only with val_acc available, skipping.\n"
          ]
        },
        {
          "name": "stdout",
          "output_type": "stream",
          "text": [
            "236/236 [==============================] - 20s 85ms/step - loss: 0.0085 - accuracy: 0.9970 - val_loss: 0.6220 - val_accuracy: 0.8556\n",
            "Epoch 45/50\n",
            "235/236 [============================>.] - ETA: 0s - loss: 0.0254 - accuracy: 0.9918WARNING:tensorflow:Can save best model only with val_acc available, skipping.\n"
          ]
        },
        {
          "name": "stderr",
          "output_type": "stream",
          "text": [
            "WARNING:tensorflow:Can save best model only with val_acc available, skipping.\n"
          ]
        },
        {
          "name": "stdout",
          "output_type": "stream",
          "text": [
            "236/236 [==============================] - 20s 86ms/step - loss: 0.0254 - accuracy: 0.9918 - val_loss: 0.1916 - val_accuracy: 0.9404\n",
            "Epoch 46/50\n",
            "235/236 [============================>.] - ETA: 0s - loss: 0.0134 - accuracy: 0.9960WARNING:tensorflow:Can save best model only with val_acc available, skipping.\n"
          ]
        },
        {
          "name": "stderr",
          "output_type": "stream",
          "text": [
            "WARNING:tensorflow:Can save best model only with val_acc available, skipping.\n"
          ]
        },
        {
          "name": "stdout",
          "output_type": "stream",
          "text": [
            "236/236 [==============================] - 21s 87ms/step - loss: 0.0134 - accuracy: 0.9960 - val_loss: 0.5110 - val_accuracy: 0.8706\n",
            "Epoch 47/50\n",
            "235/236 [============================>.] - ETA: 0s - loss: 0.0139 - accuracy: 0.9959WARNING:tensorflow:Can save best model only with val_acc available, skipping.\n"
          ]
        },
        {
          "name": "stderr",
          "output_type": "stream",
          "text": [
            "WARNING:tensorflow:Can save best model only with val_acc available, skipping.\n"
          ]
        },
        {
          "name": "stdout",
          "output_type": "stream",
          "text": [
            "236/236 [==============================] - 20s 84ms/step - loss: 0.0140 - accuracy: 0.9959 - val_loss: 0.0727 - val_accuracy: 0.9790\n",
            "Epoch 48/50\n",
            "235/236 [============================>.] - ETA: 0s - loss: 0.0146 - accuracy: 0.9955WARNING:tensorflow:Can save best model only with val_acc available, skipping.\n"
          ]
        },
        {
          "name": "stderr",
          "output_type": "stream",
          "text": [
            "WARNING:tensorflow:Can save best model only with val_acc available, skipping.\n"
          ]
        },
        {
          "name": "stdout",
          "output_type": "stream",
          "text": [
            "236/236 [==============================] - 20s 87ms/step - loss: 0.0146 - accuracy: 0.9955 - val_loss: 0.0935 - val_accuracy: 0.9685\n",
            "Epoch 49/50\n",
            "235/236 [============================>.] - ETA: 0s - loss: 0.0136 - accuracy: 0.9959WARNING:tensorflow:Can save best model only with val_acc available, skipping.\n"
          ]
        },
        {
          "name": "stderr",
          "output_type": "stream",
          "text": [
            "WARNING:tensorflow:Can save best model only with val_acc available, skipping.\n"
          ]
        },
        {
          "name": "stdout",
          "output_type": "stream",
          "text": [
            "236/236 [==============================] - 20s 86ms/step - loss: 0.0136 - accuracy: 0.9959 - val_loss: 0.1100 - val_accuracy: 0.9675\n",
            "Epoch 50/50\n",
            "235/236 [============================>.] - ETA: 0s - loss: 0.0082 - accuracy: 0.9972WARNING:tensorflow:Can save best model only with val_acc available, skipping.\n"
          ]
        },
        {
          "name": "stderr",
          "output_type": "stream",
          "text": [
            "WARNING:tensorflow:Can save best model only with val_acc available, skipping.\n"
          ]
        },
        {
          "name": "stdout",
          "output_type": "stream",
          "text": [
            "236/236 [==============================] - 20s 86ms/step - loss: 0.0082 - accuracy: 0.9972 - val_loss: 0.0581 - val_accuracy: 0.9768\n",
            "Duration: 0:16:53.140540\n"
          ]
        }
      ],
      "source": [
        "from datetime import datetime\n",
        "\n",
        "start_time = datetime.now()\n",
        "\n",
        "history = model.fit(x_train,\n",
        "                    y_train,\n",
        "                    validation_split=0.2,\n",
        "                    batch_size = 128,\n",
        "                    epochs = 50,\n",
        "                    shuffle=True,\n",
        "                    callbacks=[callback])\n",
        "\n",
        "end_time = datetime.now()\n",
        "\n",
        "print('Duration: {}'.format(end_time - start_time))"
      ]
    },
    {
      "cell_type": "code",
      "execution_count": 76,
      "metadata": {
        "colab": {
          "base_uri": "https://localhost:8080/",
          "height": 295
        },
        "id": "BJQWaQSlZY1s",
        "outputId": "7a917b75-0456-4779-d032-541a7296b076"
      },
      "outputs": [
        {
          "data": {
            "image/png": "[encoded data removed]",
            "text/plain": [
              "<Figure size 640x480 with 1 Axes>"
            ]
          },
          "metadata": {},
          "output_type": "display_data"
        }
      ],
      "source": [
        "plt.plot(history.history['accuracy'])\n",
        "\n",
        "plt.plot(history.history['val_accuracy'])\n",
        "\n",
        "plt.title('model accuracy')\n",
        "\n",
        "plt.ylabel('accuracy')\n",
        "\n",
        "plt.xlabel('epoch')\n",
        "\n",
        "plt.legend(['train', 'val'], loc='upper left')\n",
        "\n",
        "plt.show()"
      ]
    },
    {
      "cell_type": "code",
      "execution_count": 77,
      "metadata": {
        "colab": {
          "base_uri": "https://localhost:8080/",
          "height": 295
        },
        "id": "EqNXCtf9gjc4",
        "outputId": "ee0df17b-0c97-4d44-f594-4fdbeb059eb0"
      },
      "outputs": [
        {
          "data": {
            "image/png": "[encoded data removed]",
            "text/plain": [
              "<Figure size 640x480 with 1 Axes>"
            ]
          },
          "metadata": {},
          "output_type": "display_data"
        }
      ],
      "source": [
        "#plot of loss vs epoch\n",
        "\n",
        "plt.plot(history.history['loss'])\n",
        "\n",
        "plt.plot(history.history['val_loss'])\n",
        "\n",
        "plt.title('model loss')\n",
        "\n",
        "plt.ylabel('loss')\n",
        "\n",
        "plt.xlabel('epoch')\n",
        "\n",
        "plt.legend(['train', 'val'], loc='upper left')\n",
        "\n",
        "plt.show()"
      ]
    },
    {
      "cell_type": "code",
      "execution_count": 78,
      "metadata": {
        "id": "Ecxoldixgjsj"
      },
      "outputs": [],
      "source": [
        "model.save('best_model.h5')"
      ]
    },
    {
      "cell_type": "code",
      "execution_count": 79,
      "metadata": {
        "colab": {
          "base_uri": "https://localhost:8080/"
        },
        "id": "sa3p9D9Ihmf-",
        "outputId": "d30c8945-0aad-4a5e-82c0-354a0abc7983"
      },
      "outputs": [
        {
          "name": "stdout",
          "output_type": "stream",
          "text": [
            "63/63 - 1s - loss: 1.7077 - accuracy: 0.7249 - 606ms/epoch - 10ms/step\n"
          ]
        }
      ],
      "source": [
        "x_test=np.array(x_test).reshape(-1,28,28,3)\n",
        "\n",
        "loss, acc = model.evaluate(x_test, y_test, verbose=2)"
      ]
    },
    {
      "cell_type": "code",
      "execution_count": 80,
      "metadata": {
        "colab": {
          "base_uri": "https://localhost:8080/"
        },
        "id": "m8fzEdxHhmn0",
        "outputId": "92cb3c4a-9408-4855-aed0-d6371dcf9ce2"
      },
      "outputs": [
        {
          "name": "stdout",
          "output_type": "stream",
          "text": [
            "63/63 [==============================] - 1s 7ms/step\n"
          ]
        }
      ],
      "source": [
        "from sklearn.metrics import confusion_matrix\n",
        "\n",
        "y_pred = model.predict(x_test)\n",
        "y_pred = np.argmax(y_pred, axis=1)\n",
        "\n",
        "conf_mat = confusion_matrix(y_test, y_pred)\n"
      ]
    },
    {
      "cell_type": "code",
      "execution_count": 81,
      "metadata": {
        "colab": {
          "base_uri": "https://localhost:8080/"
        },
        "id": "6tPneTa8hmwJ",
        "outputId": "eb612d8c-252e-469a-b7a9-113756e44d17"
      },
      "outputs": [
        {
          "name": "stdout",
          "output_type": "stream",
          "text": [
            "[[  10    5   14    1   18    1    9]\n",
            " [  11   35   14    2   34    3    6]\n",
            " [   9    5   80    2  101    2   38]\n",
            " [   0    1    3    5   11    0    1]\n",
            " [   8    8   22    3 1213    4   70]\n",
            " [   0    1    0    0    2   18    0]\n",
            " [   4    3   18    0  114    3   91]]\n"
          ]
        }
      ],
      "source": [
        "print(conf_mat)"
      ]
    },
    {
      "cell_type": "code",
      "execution_count": 82,
      "metadata": {
        "colab": {
          "base_uri": "https://localhost:8080/",
          "height": 663
        },
        "id": "0ymDa5RghnDj",
        "outputId": "b003e75a-4a80-44ce-fb1a-6c38eb1efcc5"
      },
      "outputs": [
        {
          "data": {
            "image/png": "[encoded data removed]",
            "text/plain": [
              "<Figure size 1000x1000 with 2 Axes>"
            ]
          },
          "metadata": {},
          "output_type": "display_data"
        }
      ],
      "source": [
        "import seaborn as sns\n",
        "import matplotlib.pyplot as plt\n",
        "fig, ax = plt.subplots(figsize=(10,10)) \n",
        "\n",
        "\n",
        "ax = sns.heatmap(conf_mat, annot=True, cmap='Blues', linewidths=.9, ax=ax)\n",
        "\n",
        "ax.set_title('Confusion Matrix with labels\\n\\n');\n",
        "\n",
        "ax.set_xlabel('\\nPredicted Values')\n",
        "\n",
        "ax.set_ylabel('Actual Values ');\n",
        "\n",
        "ax.xaxis.set_ticklabels(['0','1','2','3','4','5','6'])\n",
        "\n",
        "ax.yaxis.set_ticklabels(['0','1','2','3','4','5','6'])\n",
        "\n",
        "plt.show()"
      ]
    },
    {
      "cell_type": "code",
      "execution_count": 83,
      "metadata": {
        "colab": {
          "base_uri": "https://localhost:8080/",
          "height": 663
        },
        "id": "YNjMChBrh9PK",
        "outputId": "49d8a085-de22-4414-c247-2ae852c1a2e2"
      },
      "outputs": [
        {
          "data": {
            "image/png": "[encoded data removed]",
            "text/plain": [
              "<Figure size 1000x1000 with 2 Axes>"
            ]
          },
          "metadata": {},
          "output_type": "display_data"
        }
      ],
      "source": [
        "import seaborn as sns\n",
        "import matplotlib.pyplot as plt\n",
        "fig, ax = plt.subplots(figsize=(10,10)) \n",
        "\n",
        "\n",
        "ax = sns.heatmap(conf_mat/np.sum(conf_mat), annot=True, fmt='.2%', cmap='Blues', linewidths=.9, ax=ax)\n",
        "\n",
        "ax.set_title('Confusion Matrix with labels\\n\\n');\n",
        "\n",
        "ax.set_xlabel('\\nPredicted Values')\n",
        "\n",
        "ax.set_ylabel('Actual Values ');\n",
        "\n",
        "ax.xaxis.set_ticklabels(['0','1','2','3','4','5','6'])\n",
        "\n",
        "ax.yaxis.set_ticklabels(['0','1','2','3','4','5','6'])\n",
        "\n",
        "plt.show()"
      ]
    },
    {
      "cell_type": "code",
      "execution_count": 84,
      "metadata": {},
      "outputs": [
        {
          "name": "stdout",
          "output_type": "stream",
          "text": [
            "1/1 [==============================] - 0s 173ms/step\n",
            "[9.2968630e-06 1.8538227e-05 1.9830981e-05 1.6299207e-05 8.7638648e-04\n",
            " 3.1994456e-05 9.9902773e-01]\n",
            "('mel', 'melanoma')\n"
          ]
        }
      ],
      "source": [
        "import PIL\n",
        "\n",
        "image=PIL.Image.open(r'C:\\Users\\SUDHIR REDDY\\Desktop\\Skin_Cancer\\tester.jpg')\n",
        "\n",
        "image=image.resize((28,28))\n",
        "\n",
        "img=x_test[1]\n",
        "\n",
        "img=np.array(image).reshape(-1,28,28,3)\n",
        "\n",
        "result=model.predict(img)\n",
        "\n",
        "print(result[0])\n",
        "\n",
        "result=result.tolist()\n",
        "\n",
        "max_prob=max(result[0])\n",
        "\n",
        "class_ind=result[0].index(max_prob)\n",
        "\n",
        "print(classes[class_ind])"
      ]
    }
  ],
  "metadata": {
    "accelerator": "GPU",
    "colab": {
      "provenance": []
    },
    "gpuClass": "standard",
    "kernelspec": {
      "display_name": "Python 3",
      "language": "python",
      "name": "python3"
    },
    "language_info": {
      "codemirror_mode": {
        "name": "ipython",
        "version": 3
      },
      "file_extension": ".py",
      "mimetype": "text/x-python",
      "name": "python",
      "nbconvert_exporter": "python",
      "pygments_lexer": "ipython3",
      "version": "3.11.0"
    },
    "vscode": {
      "interpreter": {
        "hash": "9cc913afe7d6355cf36893a98ca0bebd7c39bedbf28157fd780587f01d82e4c5"
      }
    }
  },
  "nbformat": 4,
  "nbformat_minor": 0
}
